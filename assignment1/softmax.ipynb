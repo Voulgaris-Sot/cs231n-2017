{
 "cells": [
  {
   "cell_type": "markdown",
   "metadata": {},
   "source": [
    "# Softmax exercise\n",
    "\n",
    "*Complete and hand in this completed worksheet (including its outputs and any supporting code outside of the worksheet) with your assignment submission. For more details see the [assignments page](http://vision.stanford.edu/teaching/cs231n/assignments.html) on the course website.*\n",
    "\n",
    "This exercise is analogous to the SVM exercise. You will:\n",
    "\n",
    "- implement a fully-vectorized **loss function** for the Softmax classifier\n",
    "- implement the fully-vectorized expression for its **analytic gradient**\n",
    "- **check your implementation** with numerical gradient\n",
    "- use a validation set to **tune the learning rate and regularization** strength\n",
    "- **optimize** the loss function with **SGD**\n",
    "- **visualize** the final learned weights\n"
   ]
  },
  {
   "cell_type": "code",
   "execution_count": 1,
   "metadata": {
    "collapsed": false
   },
   "outputs": [],
   "source": [
    "import random\n",
    "import numpy as np\n",
    "from cs231n.data_utils import load_CIFAR10\n",
    "import matplotlib.pyplot as plt\n",
    "\n",
    "from __future__ import print_function\n",
    "\n",
    "%matplotlib inline\n",
    "plt.rcParams['figure.figsize'] = (10.0, 8.0) # set default size of plots\n",
    "plt.rcParams['image.interpolation'] = 'nearest'\n",
    "plt.rcParams['image.cmap'] = 'gray'\n",
    "\n",
    "# for auto-reloading extenrnal modules\n",
    "# see http://stackoverflow.com/questions/1907993/autoreload-of-modules-in-ipython\n",
    "%load_ext autoreload\n",
    "%autoreload 2"
   ]
  },
  {
   "cell_type": "code",
   "execution_count": 2,
   "metadata": {
    "collapsed": false
   },
   "outputs": [
    {
     "name": "stdout",
     "output_type": "stream",
     "text": [
      "Train data shape:  (49000, 3073)\n",
      "Train labels shape:  (49000,)\n",
      "Validation data shape:  (1000, 3073)\n",
      "Validation labels shape:  (1000,)\n",
      "Test data shape:  (1000, 3073)\n",
      "Test labels shape:  (1000,)\n",
      "dev data shape:  (500, 3073)\n",
      "dev labels shape:  (500,)\n"
     ]
    }
   ],
   "source": [
    "def get_CIFAR10_data(num_training=49000, num_validation=1000, num_test=1000, num_dev=500):\n",
    "    \"\"\"\n",
    "    Load the CIFAR-10 dataset from disk and perform preprocessing to prepare\n",
    "    it for the linear classifier. These are the same steps as we used for the\n",
    "    SVM, but condensed to a single function.  \n",
    "    \"\"\"\n",
    "    # Load the raw CIFAR-10 data\n",
    "    cifar10_dir = 'cs231n/datasets/cifar-10-batches-py'\n",
    "    X_train, y_train, X_test, y_test = load_CIFAR10(cifar10_dir)\n",
    "    \n",
    "    # subsample the data\n",
    "    mask = list(range(num_training, num_training + num_validation))\n",
    "    X_val = X_train[mask]\n",
    "    y_val = y_train[mask]\n",
    "    mask = list(range(num_training))\n",
    "    X_train = X_train[mask]\n",
    "    y_train = y_train[mask]\n",
    "    mask = list(range(num_test))\n",
    "    X_test = X_test[mask]\n",
    "    y_test = y_test[mask]\n",
    "    mask = np.random.choice(num_training, num_dev, replace=False)\n",
    "    X_dev = X_train[mask]\n",
    "    y_dev = y_train[mask]\n",
    "    \n",
    "    # Preprocessing: reshape the image data into rows\n",
    "    X_train = np.reshape(X_train, (X_train.shape[0], -1))\n",
    "    X_val = np.reshape(X_val, (X_val.shape[0], -1))\n",
    "    X_test = np.reshape(X_test, (X_test.shape[0], -1))\n",
    "    X_dev = np.reshape(X_dev, (X_dev.shape[0], -1))\n",
    "    \n",
    "    # Normalize the data: subtract the mean image\n",
    "    mean_image = np.mean(X_train, axis = 0)\n",
    "    X_train -= mean_image\n",
    "    X_val -= mean_image\n",
    "    X_test -= mean_image\n",
    "    X_dev -= mean_image\n",
    "    \n",
    "    # add bias dimension and transform into columns\n",
    "    X_train = np.hstack([X_train, np.ones((X_train.shape[0], 1))])\n",
    "    X_val = np.hstack([X_val, np.ones((X_val.shape[0], 1))])\n",
    "    X_test = np.hstack([X_test, np.ones((X_test.shape[0], 1))])\n",
    "    X_dev = np.hstack([X_dev, np.ones((X_dev.shape[0], 1))])\n",
    "    \n",
    "    return X_train, y_train, X_val, y_val, X_test, y_test, X_dev, y_dev\n",
    "\n",
    "\n",
    "# Invoke the above function to get our data.\n",
    "X_train, y_train, X_val, y_val, X_test, y_test, X_dev, y_dev = get_CIFAR10_data()\n",
    "print('Train data shape: ', X_train.shape)\n",
    "print('Train labels shape: ', y_train.shape)\n",
    "print('Validation data shape: ', X_val.shape)\n",
    "print('Validation labels shape: ', y_val.shape)\n",
    "print('Test data shape: ', X_test.shape)\n",
    "print('Test labels shape: ', y_test.shape)\n",
    "print('dev data shape: ', X_dev.shape)\n",
    "print('dev labels shape: ', y_dev.shape)"
   ]
  },
  {
   "cell_type": "markdown",
   "metadata": {},
   "source": [
    "## Softmax Classifier\n",
    "\n",
    "Your code for this section will all be written inside **cs231n/classifiers/softmax.py**. \n"
   ]
  },
  {
   "cell_type": "code",
   "execution_count": 47,
   "metadata": {
    "collapsed": false
   },
   "outputs": [
    {
     "name": "stdout",
     "output_type": "stream",
     "text": [
      "loss: 2.331602\n",
      "sanity check: 2.302585\n"
     ]
    }
   ],
   "source": [
    "# First implement the naive softmax loss function with nested loops.\n",
    "# Open the file cs231n/classifiers/softmax.py and implement the\n",
    "# softmax_loss_naive function.\n",
    "\n",
    "from cs231n.classifiers.softmax import softmax_loss_naive\n",
    "import time\n",
    "\n",
    "# Generate a random softmax weight matrix and use it to compute the loss.\n",
    "W = np.random.randn(3073, 10) * 0.0001\n",
    "loss, grad = softmax_loss_naive(W, X_dev, y_dev, 0.0)\n",
    "\n",
    "# As a rough sanity check, our loss should be something close to -log(0.1).\n",
    "print('loss: %f' % loss)\n",
    "print('sanity check: %f' % (-np.log(0.1)))"
   ]
  },
  {
   "cell_type": "markdown",
   "metadata": {},
   "source": [
    "## Inline Question 1:\n",
    "Why do we expect our loss to be close to -log(0.1)? Explain briefly.**\n",
    "\n",
    "**Your answer:** The random weights that we used were close to zero so the activation was also near zero. The loss L_i will in that case be: L_i ~= -log[ e^0/Sum(e^0) ] = -log[1/C] = -log(1/10) = -log(0.1), where C is the number of classes which in this dataset is 10. \n"
   ]
  },
  {
   "cell_type": "code",
   "execution_count": 35,
   "metadata": {
    "collapsed": false
   },
   "outputs": [
    {
     "name": "stdout",
     "output_type": "stream",
     "text": [
      "numerical: -2.671935 analytic: -2.671936, relative error: 1.217075e-08\n",
      "numerical: 0.057172 analytic: 0.057172, relative error: 1.140140e-07\n",
      "numerical: -1.232406 analytic: -1.232406, relative error: 1.020132e-08\n",
      "numerical: -0.726819 analytic: -0.726819, relative error: 4.338611e-08\n",
      "numerical: 1.881530 analytic: 1.881530, relative error: 4.204362e-08\n",
      "numerical: -0.002780 analytic: -0.002780, relative error: 7.171709e-06\n",
      "numerical: 1.606109 analytic: 1.606109, relative error: 1.942093e-08\n",
      "numerical: -1.560987 analytic: -1.560987, relative error: 5.781093e-10\n",
      "numerical: 1.748220 analytic: 1.748220, relative error: 3.883825e-08\n",
      "numerical: -0.871999 analytic: -0.871999, relative error: 4.913828e-08\n",
      "numerical: 4.330843 analytic: 4.330843, relative error: 1.235073e-08\n",
      "numerical: 2.585033 analytic: 2.585033, relative error: 1.630098e-09\n",
      "numerical: -2.949584 analytic: -2.949584, relative error: 1.182510e-09\n",
      "numerical: -1.425099 analytic: -1.425099, relative error: 6.160852e-08\n",
      "numerical: 0.472351 analytic: 0.472351, relative error: 5.136041e-08\n",
      "numerical: -2.399891 analytic: -2.399891, relative error: 1.654416e-08\n",
      "numerical: 0.621948 analytic: 0.621948, relative error: 6.402404e-08\n",
      "numerical: -1.412655 analytic: -1.412655, relative error: 5.629317e-08\n",
      "numerical: -1.517254 analytic: -1.517254, relative error: 2.141011e-08\n",
      "numerical: 2.662737 analytic: 2.662737, relative error: 2.685065e-09\n"
     ]
    }
   ],
   "source": [
    "# Complete the implementation of softmax_loss_naive and implement a (naive)\n",
    "# version of the gradient that uses nested loops.\n",
    "loss, grad = softmax_loss_naive(W, X_dev, y_dev, 0.0)\n",
    "\n",
    "# As we did for the SVM, use numeric gradient checking as a debugging tool.\n",
    "# The numeric gradient should be close to the analytic gradient.\n",
    "from cs231n.gradient_check import grad_check_sparse\n",
    "f = lambda w: softmax_loss_naive(w, X_dev, y_dev, 0.0)[0]\n",
    "grad_numerical = grad_check_sparse(f, W, grad, 10)\n",
    "\n",
    "# similar to SVM case, do another gradient check with regularization\n",
    "loss, grad = softmax_loss_naive(W, X_dev, y_dev, 5e1)\n",
    "f = lambda w: softmax_loss_naive(w, X_dev, y_dev, 5e1)[0]\n",
    "grad_numerical = grad_check_sparse(f, W, grad, 10)"
   ]
  },
  {
   "cell_type": "code",
   "execution_count": 48,
   "metadata": {
    "collapsed": false
   },
   "outputs": [
    {
     "name": "stdout",
     "output_type": "stream",
     "text": [
      "naive loss: 2.331602e+00 computed in 0.113960s\n",
      "vectorized loss: 2.331602e+00 computed in 0.020788s\n",
      "Loss difference: 0.000000\n",
      "Gradient difference: 0.000000\n"
     ]
    }
   ],
   "source": [
    "# Now that we have a naive implementation of the softmax loss function and its gradient,\n",
    "# implement a vectorized version in softmax_loss_vectorized.\n",
    "# The two versions should compute the same results, but the vectorized version should be\n",
    "# much faster.\n",
    "tic = time.time()\n",
    "loss_naive, grad_naive = softmax_loss_naive(W, X_dev, y_dev, 0.000005)\n",
    "toc = time.time()\n",
    "print('naive loss: %e computed in %fs' % (loss_naive, toc - tic))\n",
    "\n",
    "from cs231n.classifiers.softmax import softmax_loss_vectorized\n",
    "tic = time.time()\n",
    "loss_vectorized, grad_vectorized = softmax_loss_vectorized(W, X_dev, y_dev, 0.000005)\n",
    "toc = time.time()\n",
    "print('vectorized loss: %e computed in %fs' % (loss_vectorized, toc - tic))\n",
    "\n",
    "# As we did for the SVM, we use the Frobenius norm to compare the two versions\n",
    "# of the gradient.\n",
    "grad_difference = np.linalg.norm(grad_naive - grad_vectorized, ord='fro')\n",
    "print('Loss difference: %f' % np.abs(loss_naive - loss_vectorized))\n",
    "print('Gradient difference: %f' % grad_difference)"
   ]
  },
  {
   "cell_type": "code",
   "execution_count": 52,
   "metadata": {
    "collapsed": false
   },
   "outputs": [
    {
     "name": "stdout",
     "output_type": "stream",
     "text": [
      "iteration 0 / 1500: loss 388.244599\n",
      "iteration 100 / 1500: loss 234.369921\n",
      "iteration 200 / 1500: loss 142.332294\n",
      "iteration 300 / 1500: loss 86.888747\n",
      "iteration 400 / 1500: loss 53.324177\n",
      "iteration 500 / 1500: loss 32.980640\n",
      "iteration 600 / 1500: loss 20.793528\n",
      "iteration 700 / 1500: loss 13.378824\n",
      "iteration 800 / 1500: loss 8.932837\n",
      "iteration 900 / 1500: loss 6.180770\n",
      "iteration 1000 / 1500: loss 4.582999\n",
      "iteration 1100 / 1500: loss 3.534965\n",
      "iteration 1200 / 1500: loss 2.956574\n",
      "iteration 1300 / 1500: loss 2.541527\n",
      "iteration 1400 / 1500: loss 2.347544\n",
      "That took 23.787445s\n"
     ]
    },
    {
     "data": {
      "image/png": "[encoded data removed]",
      "text/plain": [
       "<matplotlib.figure.Figure at 0x1089ab278>"
      ]
     },
     "metadata": {},
     "output_type": "display_data"
    },
    {
     "name": "stdout",
     "output_type": "stream",
     "text": [
      "training accuracy: 0.351673\n",
      "validation accuracy: 0.368000\n"
     ]
    }
   ],
   "source": [
    "#temp to check because i skipped Softmax\n",
    "from cs231n.classifiers import Softmax\n",
    "soft = Softmax()\n",
    "tic = time.time()\n",
    "loss_hist = soft.train(X_train, y_train, learning_rate=1e-7, reg=2.5e4,\n",
    "                      num_iters=1500, verbose=True)\n",
    "toc = time.time()\n",
    "print('That took %fs' % (toc - tic))\n",
    "# A useful debugging strategy is to plot the loss as a function of\n",
    "# iteration number:\n",
    "plt.plot(loss_hist)\n",
    "plt.xlabel('Iteration number')\n",
    "plt.ylabel('Loss value')\n",
    "plt.show()\n",
    "\n",
    "y_train_pred = soft.predict(X_train)\n",
    "print('training accuracy: %f' % (np.mean(y_train == y_train_pred), ))\n",
    "y_val_pred = soft.predict(X_val)\n",
    "print('validation accuracy: %f' % (np.mean(y_val == y_val_pred), ))"
   ]
  },
  {
   "cell_type": "code",
   "execution_count": 61,
   "metadata": {
    "collapsed": false
   },
   "outputs": [
    {
     "name": "stdout",
     "output_type": "stream",
     "text": [
      "iteration 0 / 1000: loss 5.757684\n",
      "iteration 100 / 1000: loss 4.336013\n",
      "iteration 200 / 1000: loss 3.654845\n",
      "iteration 300 / 1000: loss 3.469958\n",
      "iteration 400 / 1000: loss 3.164240\n",
      "iteration 500 / 1000: loss 3.190746\n",
      "iteration 600 / 1000: loss 2.948417\n",
      "iteration 700 / 1000: loss 3.154338\n",
      "iteration 800 / 1000: loss 3.009194\n",
      "iteration 900 / 1000: loss 2.819130\n",
      "iteration 0 / 1000: loss 391.169665\n",
      "iteration 100 / 1000: loss 235.745545\n",
      "iteration 200 / 1000: loss 143.191251\n",
      "iteration 300 / 1000: loss 87.488573\n",
      "iteration 400 / 1000: loss 53.580939\n",
      "iteration 500 / 1000: loss 33.226204\n",
      "iteration 600 / 1000: loss 20.924672\n",
      "iteration 700 / 1000: loss 13.477195\n",
      "iteration 800 / 1000: loss 8.944887\n",
      "iteration 900 / 1000: loss 6.148496\n",
      "iteration 0 / 1000: loss 779.907199\n",
      "iteration 100 / 1000: loss 286.443359\n",
      "iteration 200 / 1000: loss 106.195791\n",
      "iteration 300 / 1000: loss 40.211016\n",
      "iteration 400 / 1000: loss 15.963337\n",
      "iteration 500 / 1000: loss 7.160243\n",
      "iteration 600 / 1000: loss 3.957170\n",
      "iteration 700 / 1000: loss 2.700161\n",
      "iteration 800 / 1000: loss 2.316139\n",
      "iteration 900 / 1000: loss 2.226654\n",
      "iteration 0 / 1000: loss 4.953294\n",
      "iteration 100 / 1000: loss 3.101204\n",
      "iteration 200 / 1000: loss 2.975490\n",
      "iteration 300 / 1000: loss 2.656021\n",
      "iteration 400 / 1000: loss 2.489838\n",
      "iteration 500 / 1000: loss 2.409612\n",
      "iteration 600 / 1000: loss 2.345236\n",
      "iteration 700 / 1000: loss 2.344748\n",
      "iteration 800 / 1000: loss 2.322953\n",
      "iteration 900 / 1000: loss 2.297904\n",
      "iteration 0 / 1000: loss 394.337279\n",
      "iteration 100 / 1000: loss 33.355767\n",
      "iteration 200 / 1000: loss 4.468497\n",
      "iteration 300 / 1000: loss 2.299788\n",
      "iteration 400 / 1000: loss 2.072658\n",
      "iteration 500 / 1000: loss 1.993844\n",
      "iteration 600 / 1000: loss 1.973418\n",
      "iteration 700 / 1000: loss 2.036808\n",
      "iteration 800 / 1000: loss 1.992667\n",
      "iteration 900 / 1000: loss 1.972026\n",
      "iteration 0 / 1000: loss 778.639500\n",
      "iteration 100 / 1000: loss 6.928452\n",
      "iteration 200 / 1000: loss 2.175286\n",
      "iteration 300 / 1000: loss 2.040501\n",
      "iteration 400 / 1000: loss 2.129405\n",
      "iteration 500 / 1000: loss 2.127926\n",
      "iteration 600 / 1000: loss 2.037746\n",
      "iteration 700 / 1000: loss 2.123681\n",
      "iteration 800 / 1000: loss 2.081747\n",
      "iteration 900 / 1000: loss 2.126292\n",
      "lr 1.000000e-07 reg 1.000000e+00 train accuracy: 0.224163 val accuracy: 0.241000\n",
      "lr 1.000000e-07 reg 2.500000e+04 train accuracy: 0.338531 val accuracy: 0.361000\n",
      "lr 1.000000e-07 reg 5.000000e+04 train accuracy: 0.329469 val accuracy: 0.349000\n",
      "lr 5.000000e-07 reg 1.000000e+00 train accuracy: 0.294694 val accuracy: 0.285000\n",
      "lr 5.000000e-07 reg 2.500000e+04 train accuracy: 0.336306 val accuracy: 0.350000\n",
      "lr 5.000000e-07 reg 5.000000e+04 train accuracy: 0.326082 val accuracy: 0.337000\n",
      "best validation accuracy achieved during cross-validation: 0.361000\n"
     ]
    }
   ],
   "source": [
    "# Use the validation set to tune hyperparameters (regularization strength and\n",
    "# learning rate). You should experiment with different ranges for the learning\n",
    "# rates and regularization strengths; if you are careful you should be able to\n",
    "# get a classification accuracy of over 0.35 on the validation set.\n",
    "from cs231n.classifiers import Softmax\n",
    "results = {}\n",
    "best_val = -1\n",
    "best_softmax = None\n",
    "learning_rates = [1e-7, 5e-7]\n",
    "regularization_strengths = [2.5e4, 5e4]\n",
    "\n",
    "################################################################################\n",
    "# TODO:                                                                        #\n",
    "# Use the validation set to set the learning rate and regularization strength. #\n",
    "# This should be identical to the validation that you did for the SVM; save    #\n",
    "# the best trained softmax classifer in best_softmax.                          #\n",
    "################################################################################\n",
    "for lr in learning_rates:\n",
    "    for r in regularization_strengths:\n",
    "        soft = Softmax()\n",
    "        #train\n",
    "        loss_hist = soft.train(X_train, y_train, learning_rate=lr, reg=r,\n",
    "                      num_iters=1000, verbose=True)\n",
    "        #predict \n",
    "        y_train_pred = soft.predict(X_train)\n",
    "        y_val_pred = soft.predict(X_val)\n",
    "        train_acc = np.mean(y_train == y_train_pred)\n",
    "        val_acc = np.mean(y_val == y_val_pred)\n",
    "        results[(lr,r)] = (train_acc, val_acc)\n",
    "        if val_acc > best_val:\n",
    "            best_val = val_acc\n",
    "            best_softmax = soft\n",
    "################################################################################\n",
    "#                              END OF YOUR CODE                                #\n",
    "################################################################################\n",
    "    \n",
    "# Print out results.\n",
    "for lr, reg in sorted(results):\n",
    "    train_accuracy, val_accuracy = results[(lr, reg)]\n",
    "    print('lr %e reg %e train accuracy: %f val accuracy: %f' % (\n",
    "                lr, reg, train_accuracy, val_accuracy))\n",
    "    \n",
    "print('best validation accuracy achieved during cross-validation: %f' % best_val)"
   ]
  },
  {
   "cell_type": "code",
   "execution_count": 63,
   "metadata": {
    "collapsed": false
   },
   "outputs": [
    {
     "name": "stdout",
     "output_type": "stream",
     "text": [
      "softmax on raw pixels final test set accuracy: 0.343000\n"
     ]
    }
   ],
   "source": [
    "# evaluate on test set\n",
    "# Evaluate the best softmax on test set\n",
    "y_test_pred = best_softmax.predict(X_test)\n",
    "test_accuracy = np.mean(y_test == y_test_pred)\n",
    "print('softmax on raw pixels final test set accuracy: %f' % (test_accuracy, ))"
   ]
  },
  {
   "cell_type": "code",
   "execution_count": 64,
   "metadata": {
    "collapsed": false
   },
   "outputs": [
    {
     "data": {
      "image/png": "[encoded data removed]",
      "text/plain": [
       "<matplotlib.figure.Figure at 0x108d39860>"
      ]
     },
     "metadata": {},
     "output_type": "display_data"
    }
   ],
   "source": [
    "# Visualize the learned weights for each class\n",
    "w = best_softmax.W[:-1,:] # strip out the bias\n",
    "w = w.reshape(32, 32, 3, 10)\n",
    "\n",
    "w_min, w_max = np.min(w), np.max(w)\n",
    "\n",
    "classes = ['plane', 'car', 'bird', 'cat', 'deer', 'dog', 'frog', 'horse', 'ship', 'truck']\n",
    "for i in range(10):\n",
    "    plt.subplot(2, 5, i + 1)\n",
    "    \n",
    "    # Rescale the weights to be between 0 and 255\n",
    "    wimg = 255.0 * (w[:, :, :, i].squeeze() - w_min) / (w_max - w_min)\n",
    "    plt.imshow(wimg.astype('uint8'))\n",
    "    plt.axis('off')\n",
    "    plt.title(classes[i])"
   ]
  },
  {
   "cell_type": "code",
   "execution_count": null,
   "metadata": {
    "collapsed": true
   },
   "outputs": [],
   "source": []
  }
 ],
 "metadata": {
  "kernelspec": {
   "display_name": "Python 3",
   "language": "python",
   "name": "python3"
  },
  "language_info": {
   "codemirror_mode": {
    "name": "ipython",
    "version": 3
   },
   "file_extension": ".py",
   "mimetype": "text/x-python",
   "name": "python",
   "nbconvert_exporter": "python",
   "pygments_lexer": "ipython3",
   "version": "3.6.0"
  }
 },
 "nbformat": 4,
 "nbformat_minor": 0
}
